{
 "cells": [
  {
   "cell_type": "code",
   "execution_count": 28,
   "metadata": {
    "collapsed": true
   },
   "outputs": [],
   "source": [
    "from nytimesarticle import articleAPI\n",
    "import urllib2\n",
    "from bs4 import BeautifulSoup\n",
    "from bs4.element import Comment\n",
    "api = articleAPI(\"4f716a9a9d8f455e908ec32b459a12ac\")"
   ]
  },
  {
   "cell_type": "code",
   "execution_count": 67,
   "metadata": {
    "collapsed": true
   },
   "outputs": [],
   "source": [
    "def filter_visible_text(all_text):\n",
    "    if all_text.parent.name in ['style', 'script', 'head', 'title', 'meta', '[document]']:\n",
    "        return False\n",
    "    if isinstance(all_text, Comment):\n",
    "        return False\n",
    "    return True"
   ]
  },
  {
   "cell_type": "code",
   "execution_count": 100,
   "metadata": {},
   "outputs": [],
   "source": [
    "import unicodedata\n",
    "import string\n",
    "final_text = \"\"\n",
    "for i in range(0,1):\n",
    "    articles = api.search(q = \"machine learning\", begin_date  = \"20170401\", end_date = \"20170406\")\n",
    "    for item in articles[\"response\"][\"docs\"]:\n",
    "        url = item[\"web_url\"]\n",
    "        response = urllib2.urlopen(url)\n",
    "        web_content = response.read()\n",
    "        bea_soup = BeautifulSoup(web_content, 'html.parser')\n",
    "        all_text = bea_soup.findAll(text = True)\n",
    "        visible_text = filter(filter_visible_text, all_text)\n",
    "        temp_text = u\" \".join(temp.strip() for temp in visible_text)\n",
    "        final_text = final_text + \" \" + temp_text\n",
    "final_text = unicodedata.normalize('NFKD', final_text).encode('ascii','ignore')\n",
    "file = open(\"machine_learning_7.txt\",\"w\")\n",
    "file.write(final_text.strip())\n",
    "file.close()"
   ]
  }
 ],
 "metadata": {
  "kernelspec": {
   "display_name": "Python 2",
   "language": "python",
   "name": "python2"
  },
  "language_info": {
   "codemirror_mode": {
    "name": "ipython",
    "version": 2
   },
   "file_extension": ".py",
   "mimetype": "text/x-python",
   "name": "python",
   "nbconvert_exporter": "python",
   "pygments_lexer": "ipython2",
   "version": "2.7.14"
  }
 },
 "nbformat": 4,
 "nbformat_minor": 2
}
