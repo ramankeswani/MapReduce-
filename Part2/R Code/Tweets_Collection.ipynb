{
 "cells": [
  {
   "cell_type": "code",
   "execution_count": 7,
   "metadata": {},
   "outputs": [
    {
     "name": "stdout",
     "output_type": "stream",
     "text": [
      "[1] \"Using direct authentication\"\n"
     ]
    }
   ],
   "source": [
    "library(twitteR)\n",
    "\n",
    "api_key <- \"4labAgN3hljf7lJCe44d8smWm\" \n",
    "api_secret <- \"Au1jUW42RaxIzVIt1NllbLYvpexYTlEJKPGdMWk8Z1bt23ctGq\"\n",
    "token <- \"272088680-wI4dhRPrlUTPVreyzdKajFpx67tiAp9h8cdR4adp\"\n",
    "token_secret <- \"C4CUQ68wt74uNx5yjhEE0EgqNTbmIwnYjeoVZOgxppZVh\"\n",
    "\n",
    "setup_twitter_oauth(api_key, api_secret, token, token_secret)\n",
    "\n",
    "tweetSearched = searchTwitter('#MachineLearning', geocode='39.0119,-98.48425,2500mi', n = 6000)\n",
    "\n",
    "tweet_df = twListToDF(tweetSearched)\n",
    "write.csv(tweet_df[\"text\"], row.names = FALSE, \"artificial_intelligence_0704_2.txt\")"
   ]
  },
  {
   "cell_type": "code",
   "execution_count": 3,
   "metadata": {},
   "outputs": [
    {
     "name": "stdout",
     "output_type": "stream",
     "text": [
      "[1] \"Using direct authentication\"\n"
     ]
    }
   ],
   "source": [
    "library(twitteR)\n",
    "\n",
    "api_key <- \"4labAgN3hljf7lJCe44d8smWm\" \n",
    "api_secret <- \"Au1jUW42RaxIzVIt1NllbLYvpexYTlEJKPGdMWk8Z1bt23ctGq\"\n",
    "token <- \"272088680-wI4dhRPrlUTPVreyzdKajFpx67tiAp9h8cdR4adp\"\n",
    "token_secret <- \"C4CUQ68wt74uNx5yjhEE0EgqNTbmIwnYjeoVZOgxppZVh\"\n",
    "\n",
    "setup_twitter_oauth(api_key, api_secret, token, token_secret)\n",
    "\n",
    "tweetSearched = searchTwitter('Artificial Intelligence', geocode='39.0119,-98.48425,2500mi', n = 6000)\n",
    "\n",
    "tweet_df = twListToDF(tweetSearched)\n",
    "write.csv(tweet_df, \"ai_tweet_data.csv\")"
   ]
  },
  {
   "cell_type": "code",
   "execution_count": 2,
   "metadata": {},
   "outputs": [
    {
     "name": "stderr",
     "output_type": "stream",
     "text": [
      "Warning message:\n",
      "\"package 'twitteR' was built under R version 3.4.3\""
     ]
    }
   ],
   "source": [
    "library(twitteR)\n",
    "help(searchTwitter)"
   ]
  },
  {
   "cell_type": "code",
   "execution_count": 8,
   "metadata": {},
   "outputs": [
    {
     "name": "stdout",
     "output_type": "stream",
     "text": [
      "[1] \"Using direct authentication\"\n"
     ]
    },
    {
     "name": "stderr",
     "output_type": "stream",
     "text": [
      "Warning message in doRppAPICall(\"search/tweets\", n, params = params, retryOnRateLimit = retryOnRateLimit, :\n",
      "\"6000 tweets were requested but the API can only return 1789\""
     ]
    }
   ],
   "source": [
    "library(twitteR)\n",
    "\n",
    "api_key <- \"4labAgN3hljf7lJCe44d8smWm\" \n",
    "api_secret <- \"Au1jUW42RaxIzVIt1NllbLYvpexYTlEJKPGdMWk8Z1bt23ctGq\"\n",
    "token <- \"272088680-wI4dhRPrlUTPVreyzdKajFpx67tiAp9h8cdR4adp\"\n",
    "token_secret <- \"C4CUQ68wt74uNx5yjhEE0EgqNTbmIwnYjeoVZOgxppZVh\"\n",
    "\n",
    "setup_twitter_oauth(api_key, api_secret, token, token_secret)\n",
    "\n",
    "tweetSearched = searchTwitter('Driverless Cars', geocode='39.0119,-98.48425,2500mi', n = 6000)\n",
    "\n",
    "tweet_df = twListToDF(tweetSearched)\n",
    "write.csv(tweet_df[\"text\"], row.names = FALSE, \"Self_driving_cars_0704_2.txt\")"
   ]
  }
 ],
 "metadata": {
  "kernelspec": {
   "display_name": "R",
   "language": "R",
   "name": "ir"
  },
  "language_info": {
   "codemirror_mode": "r",
   "file_extension": ".r",
   "mimetype": "text/x-r-source",
   "name": "R",
   "pygments_lexer": "r",
   "version": "3.4.2"
  }
 },
 "nbformat": 4,
 "nbformat_minor": 2
}
