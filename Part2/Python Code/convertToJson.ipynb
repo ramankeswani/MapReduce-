{
 "cells": [
  {
   "cell_type": "code",
   "execution_count": 2,
   "metadata": {},
   "outputs": [
    {
     "name": "stdout",
     "output_type": "stream",
     "text": [
      "stephen 5381\n",
      "hawking 5354\n",
      "cambridge 2243\n",
      "funeral 1661\n",
      "church 717\n",
      "line 668\n",
      "professor 515\n",
      "hundreds 469\n",
      "streets 461\n",
      "despiden 436\n",
      "redmayne 434\n",
      "great 431\n",
      "eddie 429\n",
      "mary 414\n",
      "arrived 408\n",
      "casket 406\n",
      "andrewkimmel 404\n",
      "amigos 403\n",
      "familiares 386\n",
      "via 370\n",
      "astrofsico 327\n",
      "despidi 322\n",
      "mourners 317\n",
      "con 315\n",
      "applaud 302\n",
      "honor 301\n",
      "haskankaya 292\n",
      "marys 289\n",
      "enters 284\n",
      "fue 284\n",
      "mydaughtersarmy 284\n",
      "street 284\n",
      "por 278\n",
      "stars 267\n",
      "adis 261\n",
      "esta 261\n",
      "hasta 260\n",
      "cuando 253\n",
      "ltimo 252\n",
      "gustado 251\n",
      "que 251\n",
      "gran 248\n",
      "bretaa 244\n",
      "theory 242\n",
      "venezuela 242\n",
      "forma 241\n",
      "hubiera 240\n",
      "ver 240\n",
      "mismo 238\n",
      "everything 237\n",
      "[{'text': 'stephen', 'size': '5381'}, {'text': 'hawking', 'size': '5354'}, {'text': 'cambridge', 'size': '2243'}, {'text': 'funeral', 'size': '1661'}, {'text': 'church', 'size': '717'}, {'text': 'line', 'size': '668'}, {'text': 'professor', 'size': '515'}, {'text': 'hundreds', 'size': '469'}, {'text': 'streets', 'size': '461'}, {'text': 'despiden', 'size': '436'}, {'text': 'redmayne', 'size': '434'}, {'text': 'great', 'size': '431'}, {'text': 'eddie', 'size': '429'}, {'text': 'mary', 'size': '414'}, {'text': 'arrived', 'size': '408'}, {'text': 'casket', 'size': '406'}, {'text': 'andrewkimmel', 'size': '404'}, {'text': 'amigos', 'size': '403'}, {'text': 'familiares', 'size': '386'}, {'text': 'via', 'size': '370'}, {'text': 'astrofsico', 'size': '327'}, {'text': 'despidi', 'size': '322'}, {'text': 'mourners', 'size': '317'}, {'text': 'con', 'size': '315'}, {'text': 'applaud', 'size': '302'}, {'text': 'honor', 'size': '301'}, {'text': 'haskankaya', 'size': '292'}, {'text': 'marys', 'size': '289'}, {'text': 'enters', 'size': '284'}, {'text': 'fue', 'size': '284'}, {'text': 'mydaughtersarmy', 'size': '284'}, {'text': 'street', 'size': '284'}, {'text': 'por', 'size': '278'}, {'text': 'stars', 'size': '267'}, {'text': 'adis', 'size': '261'}, {'text': 'esta', 'size': '261'}, {'text': 'hasta', 'size': '260'}, {'text': 'cuando', 'size': '253'}, {'text': 'ltimo', 'size': '252'}, {'text': 'gustado', 'size': '251'}, {'text': 'que', 'size': '251'}, {'text': 'gran', 'size': '248'}, {'text': 'bretaa', 'size': '244'}, {'text': 'theory', 'size': '242'}, {'text': 'venezuela', 'size': '242'}, {'text': 'forma', 'size': '241'}, {'text': 'hubiera', 'size': '240'}, {'text': 'ver', 'size': '240'}, {'text': 'mismo', 'size': '238'}, {'text': 'everything', 'size': '237'}]\n"
     ]
    }
   ],
   "source": [
    "import json\n",
    "file = open('hawkingOutputTwitter.txt', 'r') \n",
    "json_data = []\n",
    "for i in range(0,50):\n",
    "    data = {}\n",
    "    line  = file.readline().strip()\n",
    "    words = line.split(\"\\t\")\n",
    "    print(words[0] + \" \" + words[1])\n",
    "    data[\"text\"] = (words[0])\n",
    "    data[\"size\"] = (words[1])\n",
    "    json_data.append(data)\n",
    "print(json_data)\n",
    "\n",
    "with open(\"pyJSON_T_SH.json\", \"w\") as outfile:\n",
    "    json.dump(json_data, outfile, indent=4)"
   ]
  }
 ],
 "metadata": {
  "kernelspec": {
   "display_name": "Python 3",
   "language": "python",
   "name": "python3"
  },
  "language_info": {
   "codemirror_mode": {
    "name": "ipython",
    "version": 3
   },
   "file_extension": ".py",
   "mimetype": "text/x-python",
   "name": "python",
   "nbconvert_exporter": "python",
   "pygments_lexer": "ipython3",
   "version": "3.6.4"
  }
 },
 "nbformat": 4,
 "nbformat_minor": 2
}
